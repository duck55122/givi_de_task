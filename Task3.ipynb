{
 "cells": [
  {
   "cell_type": "code",
   "execution_count": 86,
   "id": "4e50bbc9",
   "metadata": {},
   "outputs": [
    {
     "name": "stdout",
     "output_type": "stream",
     "text": [
      "CA_category_id.json CAvideos.csv\n",
      "DE_category_id.json DEvideos.csv\n",
      "FR_category_id.json FRvideos.csv\n",
      "GB_category_id.json GBvideos.csv\n",
      "IN_category_id.json INvideos.csv\n",
      "JP_category_id.json JPvideos.csv\n",
      "KR_category_id.json KRvideos.csv\n",
      "MX_category_id.json MXvideos.csv\n",
      "RU_category_id.json RUvideos.csv\n",
      "US_category_id.json USvideos.csv\n"
     ]
    },
    {
     "name": "stderr",
     "output_type": "stream",
     "text": [
      "C:\\Users\\js255122\\AppData\\Local\\Temp\\ipykernel_12132\\2715222588.py:50: UserWarning: The provided table name 'YoutubeTrending' is not found exactly as such in the database after writing the table, possibly due to case sensitivity issues. Consider using lower case table names.\n",
      "  final_data.to_sql(con=my_conn,name='YoutubeTrending',if_exists='append',index=False)\n"
     ]
    },
    {
     "data": {
      "text/plain": [
       "373204"
      ]
     },
     "execution_count": 86,
     "metadata": {},
     "output_type": "execute_result"
    }
   ],
   "source": [
    "import os\n",
    "from sqlalchemy import create_engine\n",
    "import pandas as pd\n",
    "import numpy as np\n",
    "import json\n",
    "\n",
    "def making_data(file1,file2):\n",
    "    f = open(file1)\n",
    "    data_json = json.load(f)\n",
    "    lst = data_json['items']\n",
    "    f.close()\n",
    "    x = {}\n",
    "    for i in lst:\n",
    "      x[int(i['id'])] = i['snippet']['title']\n",
    "     \n",
    "    data = pd.read_csv(file2,encoding='latin-1')\n",
    "    \n",
    "    data.drop(['publish_time','comments_disabled','ratings_disabled','tags','video_error_or_removed','description'],axis =1,inplace=True)\n",
    "    \n",
    "    z = []\n",
    "    for i in data['category_id']:\n",
    "      if i in x:\n",
    "        z.append(x[i])\n",
    "      else:\n",
    "        z.append(np.nan)\n",
    "    \n",
    "    data['category'] = z\n",
    "    data.dropna(axis= 'index',how = 'all',subset = ['category'],inplace = True)\n",
    "    return data\n",
    "\n",
    "jsonfiles = []\n",
    "csvfiles = []\n",
    "for i in os.listdir():\n",
    "    if i[-4:] == '.csv':\n",
    "        csvfiles.append(i)\n",
    "    elif i[-5:] == '.json':\n",
    "        jsonfiles.append(i)\n",
    "    else:\n",
    "        pass\n",
    "jsonfiles.sort()\n",
    "csvfiles.sort()\n",
    "files = dict(zip(jsonfiles,csvfiles))\n",
    "final_data = pd.DataFrame()\n",
    "for key,value in files.items():\n",
    "    print(key,value)\n",
    "    data = making_data(key,value)\n",
    "    final_data = pd.concat([final_data,data],ignore_index = True)\n",
    "\n",
    "my_conn=create_engine(\"mysql+mysqldb://root:@localhost/guvi\")\n",
    "final_data.to_sql(con=my_conn,name='YoutubeTrending',if_exists='append',index=False)"
   ]
  },
  {
   "cell_type": "code",
   "execution_count": null,
   "id": "de133f1c",
   "metadata": {},
   "outputs": [],
   "source": []
  }
 ],
 "metadata": {
  "kernelspec": {
   "display_name": "Python 3 (ipykernel)",
   "language": "python",
   "name": "python3"
  },
  "language_info": {
   "codemirror_mode": {
    "name": "ipython",
    "version": 3
   },
   "file_extension": ".py",
   "mimetype": "text/x-python",
   "name": "python",
   "nbconvert_exporter": "python",
   "pygments_lexer": "ipython3",
   "version": "3.10.1"
  }
 },
 "nbformat": 4,
 "nbformat_minor": 5
}
